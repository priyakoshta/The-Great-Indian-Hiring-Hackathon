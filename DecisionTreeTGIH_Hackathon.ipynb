{
  "nbformat": 4,
  "nbformat_minor": 0,
  "metadata": {
    "colab": {
      "name": "DecisionTreeTGIH_Hackathon.ipynb",
      "provenance": []
    },
    "kernelspec": {
      "display_name": "Python 3",
      "name": "python3"
    }
  },
  "cells": [
    {
      "cell_type": "code",
      "metadata": {
        "id": "WsB3JKnwn4Oa"
      },
      "source": [
        "from google.colab import drive\n",
        "import seaborn as sns\n",
        "import pandas as pd\n",
        "from sklearn.linear_model import LinearRegression\n",
        "from sklearn import preprocessing\n",
        "import numpy as np\n",
        "from sklearn.model_selection import train_test_split, GridSearchCV\n",
        "from sklearn.preprocessing import PowerTransformer\n",
        "from sklearn.metrics import mean_squared_error\n",
        "from math import sqrt\n",
        "from sklearn import metrics\n",
        "from sklearn.tree import DecisionTreeRegressor  \n",
        "import random"
      ],
      "execution_count": 1,
      "outputs": []
    },
    {
      "cell_type": "code",
      "metadata": {
        "id": "JruRIsPPpNId",
        "outputId": "4e65dbc8-feb5-4ff9-e3d0-7b11a1270195",
        "colab": {
          "base_uri": "https://localhost:8080/"
        }
      },
      "source": [
        "drive.mount('/content/drive')\n",
        "train_df=pd.read_csv('/content/drive/My Drive/Participants_Data_TGIH/Train.csv')"
      ],
      "execution_count": 2,
      "outputs": [
        {
          "output_type": "stream",
          "text": [
            "Drive already mounted at /content/drive; to attempt to forcibly remount, call drive.mount(\"/content/drive\", force_remount=True).\n"
          ],
          "name": "stdout"
        }
      ]
    },
    {
      "cell_type": "code",
      "metadata": {
        "id": "ooxKa1SJqnH2"
      },
      "source": [
        "test_df=pd.read_csv('/content/drive/My Drive/Participants_Data_TGIH/Test.csv')"
      ],
      "execution_count": 3,
      "outputs": []
    },
    {
      "cell_type": "code",
      "metadata": {
        "id": "-slQqRCvrElF",
        "outputId": "257308f4-2b4a-40cf-e5b8-23a7d2a145d3",
        "colab": {
          "base_uri": "https://localhost:8080/",
          "height": 204
        }
      },
      "source": [
        "train_df.head()"
      ],
      "execution_count": 4,
      "outputs": [
        {
          "output_type": "execute_result",
          "data": {
            "text/html": [
              "<div>\n",
              "<style scoped>\n",
              "    .dataframe tbody tr th:only-of-type {\n",
              "        vertical-align: middle;\n",
              "    }\n",
              "\n",
              "    .dataframe tbody tr th {\n",
              "        vertical-align: top;\n",
              "    }\n",
              "\n",
              "    .dataframe thead th {\n",
              "        text-align: right;\n",
              "    }\n",
              "</style>\n",
              "<table border=\"1\" class=\"dataframe\">\n",
              "  <thead>\n",
              "    <tr style=\"text-align: right;\">\n",
              "      <th></th>\n",
              "      <th>InvoiceNo</th>\n",
              "      <th>StockCode</th>\n",
              "      <th>Description</th>\n",
              "      <th>Quantity</th>\n",
              "      <th>InvoiceDate</th>\n",
              "      <th>UnitPrice</th>\n",
              "      <th>CustomerID</th>\n",
              "      <th>Country</th>\n",
              "    </tr>\n",
              "  </thead>\n",
              "  <tbody>\n",
              "    <tr>\n",
              "      <th>0</th>\n",
              "      <td>6141</td>\n",
              "      <td>1583</td>\n",
              "      <td>144</td>\n",
              "      <td>3</td>\n",
              "      <td>2011-05-06 16:54:00</td>\n",
              "      <td>3.75</td>\n",
              "      <td>14056.0</td>\n",
              "      <td>35</td>\n",
              "    </tr>\n",
              "    <tr>\n",
              "      <th>1</th>\n",
              "      <td>6349</td>\n",
              "      <td>1300</td>\n",
              "      <td>3682</td>\n",
              "      <td>6</td>\n",
              "      <td>2011-05-11 07:35:00</td>\n",
              "      <td>1.95</td>\n",
              "      <td>13098.0</td>\n",
              "      <td>35</td>\n",
              "    </tr>\n",
              "    <tr>\n",
              "      <th>2</th>\n",
              "      <td>16783</td>\n",
              "      <td>2178</td>\n",
              "      <td>1939</td>\n",
              "      <td>4</td>\n",
              "      <td>2011-11-20 13:20:00</td>\n",
              "      <td>5.95</td>\n",
              "      <td>15044.0</td>\n",
              "      <td>35</td>\n",
              "    </tr>\n",
              "    <tr>\n",
              "      <th>3</th>\n",
              "      <td>16971</td>\n",
              "      <td>2115</td>\n",
              "      <td>2983</td>\n",
              "      <td>1</td>\n",
              "      <td>2011-11-22 12:07:00</td>\n",
              "      <td>0.83</td>\n",
              "      <td>15525.0</td>\n",
              "      <td>35</td>\n",
              "    </tr>\n",
              "    <tr>\n",
              "      <th>4</th>\n",
              "      <td>6080</td>\n",
              "      <td>1210</td>\n",
              "      <td>2886</td>\n",
              "      <td>12</td>\n",
              "      <td>2011-05-06 09:00:00</td>\n",
              "      <td>1.65</td>\n",
              "      <td>13952.0</td>\n",
              "      <td>35</td>\n",
              "    </tr>\n",
              "  </tbody>\n",
              "</table>\n",
              "</div>"
            ],
            "text/plain": [
              "   InvoiceNo  StockCode  Description  ...  UnitPrice CustomerID  Country\n",
              "0       6141       1583          144  ...       3.75    14056.0       35\n",
              "1       6349       1300         3682  ...       1.95    13098.0       35\n",
              "2      16783       2178         1939  ...       5.95    15044.0       35\n",
              "3      16971       2115         2983  ...       0.83    15525.0       35\n",
              "4       6080       1210         2886  ...       1.65    13952.0       35\n",
              "\n",
              "[5 rows x 8 columns]"
            ]
          },
          "metadata": {
            "tags": []
          },
          "execution_count": 4
        }
      ]
    },
    {
      "cell_type": "code",
      "metadata": {
        "id": "tsL489SBrQIL",
        "outputId": "1f6ee260-069d-41c2-feaf-d10619620c6e",
        "colab": {
          "base_uri": "https://localhost:8080/"
        }
      },
      "source": [
        "train_df.isnull().values.any()"
      ],
      "execution_count": 5,
      "outputs": [
        {
          "output_type": "execute_result",
          "data": {
            "text/plain": [
              "False"
            ]
          },
          "metadata": {
            "tags": []
          },
          "execution_count": 5
        }
      ]
    },
    {
      "cell_type": "code",
      "metadata": {
        "id": "46b33j466f2M",
        "outputId": "b615f34d-3d96-4250-f8ec-75494a66d188",
        "colab": {
          "base_uri": "https://localhost:8080/"
        }
      },
      "source": [
        "train_df.shape"
      ],
      "execution_count": 6,
      "outputs": [
        {
          "output_type": "execute_result",
          "data": {
            "text/plain": [
              "(284780, 8)"
            ]
          },
          "metadata": {
            "tags": []
          },
          "execution_count": 6
        }
      ]
    },
    {
      "cell_type": "code",
      "metadata": {
        "id": "sMBLBSYnwWd5",
        "outputId": "0a97ac9d-4991-4821-a88a-1a07435de0d3",
        "colab": {
          "base_uri": "https://localhost:8080/"
        }
      },
      "source": [
        "train_df.duplicated().sum()"
      ],
      "execution_count": 7,
      "outputs": [
        {
          "output_type": "execute_result",
          "data": {
            "text/plain": [
              "2621"
            ]
          },
          "metadata": {
            "tags": []
          },
          "execution_count": 7
        }
      ]
    },
    {
      "cell_type": "code",
      "metadata": {
        "id": "EoUjb_7s_rB4"
      },
      "source": [
        "train_df.drop_duplicates(inplace=True)\n",
        "train_df['InvoiceDate']=pd.to_datetime(train_df['InvoiceDate'])\n",
        "train_df['InvoiceDay']=train_df['InvoiceDate'].dt.day\n",
        "train_df['InvoiceMonth']=train_df['InvoiceDate'].dt.month\n",
        "train_df['InvoiceYear']=train_df['InvoiceDate'].dt.year\n",
        "train_df['InvoiceHour']=train_df['InvoiceDate'].dt.hour"
      ],
      "execution_count": 8,
      "outputs": []
    },
    {
      "cell_type": "code",
      "metadata": {
        "id": "C96Uc1BEC236",
        "outputId": "ba9a47c4-6970-4ff2-b57c-c8bbf9a67d70",
        "colab": {
          "base_uri": "https://localhost:8080/",
          "height": 204
        }
      },
      "source": [
        "train_df.head()"
      ],
      "execution_count": 9,
      "outputs": [
        {
          "output_type": "execute_result",
          "data": {
            "text/html": [
              "<div>\n",
              "<style scoped>\n",
              "    .dataframe tbody tr th:only-of-type {\n",
              "        vertical-align: middle;\n",
              "    }\n",
              "\n",
              "    .dataframe tbody tr th {\n",
              "        vertical-align: top;\n",
              "    }\n",
              "\n",
              "    .dataframe thead th {\n",
              "        text-align: right;\n",
              "    }\n",
              "</style>\n",
              "<table border=\"1\" class=\"dataframe\">\n",
              "  <thead>\n",
              "    <tr style=\"text-align: right;\">\n",
              "      <th></th>\n",
              "      <th>InvoiceNo</th>\n",
              "      <th>StockCode</th>\n",
              "      <th>Description</th>\n",
              "      <th>Quantity</th>\n",
              "      <th>InvoiceDate</th>\n",
              "      <th>UnitPrice</th>\n",
              "      <th>CustomerID</th>\n",
              "      <th>Country</th>\n",
              "      <th>InvoiceDay</th>\n",
              "      <th>InvoiceMonth</th>\n",
              "      <th>InvoiceYear</th>\n",
              "      <th>InvoiceHour</th>\n",
              "    </tr>\n",
              "  </thead>\n",
              "  <tbody>\n",
              "    <tr>\n",
              "      <th>0</th>\n",
              "      <td>6141</td>\n",
              "      <td>1583</td>\n",
              "      <td>144</td>\n",
              "      <td>3</td>\n",
              "      <td>2011-05-06 16:54:00</td>\n",
              "      <td>3.75</td>\n",
              "      <td>14056.0</td>\n",
              "      <td>35</td>\n",
              "      <td>6</td>\n",
              "      <td>5</td>\n",
              "      <td>2011</td>\n",
              "      <td>16</td>\n",
              "    </tr>\n",
              "    <tr>\n",
              "      <th>1</th>\n",
              "      <td>6349</td>\n",
              "      <td>1300</td>\n",
              "      <td>3682</td>\n",
              "      <td>6</td>\n",
              "      <td>2011-05-11 07:35:00</td>\n",
              "      <td>1.95</td>\n",
              "      <td>13098.0</td>\n",
              "      <td>35</td>\n",
              "      <td>11</td>\n",
              "      <td>5</td>\n",
              "      <td>2011</td>\n",
              "      <td>7</td>\n",
              "    </tr>\n",
              "    <tr>\n",
              "      <th>2</th>\n",
              "      <td>16783</td>\n",
              "      <td>2178</td>\n",
              "      <td>1939</td>\n",
              "      <td>4</td>\n",
              "      <td>2011-11-20 13:20:00</td>\n",
              "      <td>5.95</td>\n",
              "      <td>15044.0</td>\n",
              "      <td>35</td>\n",
              "      <td>20</td>\n",
              "      <td>11</td>\n",
              "      <td>2011</td>\n",
              "      <td>13</td>\n",
              "    </tr>\n",
              "    <tr>\n",
              "      <th>3</th>\n",
              "      <td>16971</td>\n",
              "      <td>2115</td>\n",
              "      <td>2983</td>\n",
              "      <td>1</td>\n",
              "      <td>2011-11-22 12:07:00</td>\n",
              "      <td>0.83</td>\n",
              "      <td>15525.0</td>\n",
              "      <td>35</td>\n",
              "      <td>22</td>\n",
              "      <td>11</td>\n",
              "      <td>2011</td>\n",
              "      <td>12</td>\n",
              "    </tr>\n",
              "    <tr>\n",
              "      <th>4</th>\n",
              "      <td>6080</td>\n",
              "      <td>1210</td>\n",
              "      <td>2886</td>\n",
              "      <td>12</td>\n",
              "      <td>2011-05-06 09:00:00</td>\n",
              "      <td>1.65</td>\n",
              "      <td>13952.0</td>\n",
              "      <td>35</td>\n",
              "      <td>6</td>\n",
              "      <td>5</td>\n",
              "      <td>2011</td>\n",
              "      <td>9</td>\n",
              "    </tr>\n",
              "  </tbody>\n",
              "</table>\n",
              "</div>"
            ],
            "text/plain": [
              "   InvoiceNo  StockCode  Description  ...  InvoiceMonth InvoiceYear  InvoiceHour\n",
              "0       6141       1583          144  ...             5        2011           16\n",
              "1       6349       1300         3682  ...             5        2011            7\n",
              "2      16783       2178         1939  ...            11        2011           13\n",
              "3      16971       2115         2983  ...            11        2011           12\n",
              "4       6080       1210         2886  ...             5        2011            9\n",
              "\n",
              "[5 rows x 12 columns]"
            ]
          },
          "metadata": {
            "tags": []
          },
          "execution_count": 9
        }
      ]
    },
    {
      "cell_type": "markdown",
      "metadata": {
        "id": "XdIAlcYi6sUr"
      },
      "source": [
        ""
      ]
    },
    {
      "cell_type": "code",
      "metadata": {
        "id": "6JgX9Ez_F8Av",
        "outputId": "e886b81e-13a3-47e0-dc7c-a0308c96bc79",
        "colab": {
          "base_uri": "https://localhost:8080/",
          "height": 317
        }
      },
      "source": [
        "train_df.describe()"
      ],
      "execution_count": 10,
      "outputs": [
        {
          "output_type": "execute_result",
          "data": {
            "text/html": [
              "<div>\n",
              "<style scoped>\n",
              "    .dataframe tbody tr th:only-of-type {\n",
              "        vertical-align: middle;\n",
              "    }\n",
              "\n",
              "    .dataframe tbody tr th {\n",
              "        vertical-align: top;\n",
              "    }\n",
              "\n",
              "    .dataframe thead th {\n",
              "        text-align: right;\n",
              "    }\n",
              "</style>\n",
              "<table border=\"1\" class=\"dataframe\">\n",
              "  <thead>\n",
              "    <tr style=\"text-align: right;\">\n",
              "      <th></th>\n",
              "      <th>InvoiceNo</th>\n",
              "      <th>StockCode</th>\n",
              "      <th>Description</th>\n",
              "      <th>Quantity</th>\n",
              "      <th>UnitPrice</th>\n",
              "      <th>CustomerID</th>\n",
              "      <th>Country</th>\n",
              "      <th>InvoiceDay</th>\n",
              "      <th>InvoiceMonth</th>\n",
              "      <th>InvoiceYear</th>\n",
              "      <th>InvoiceHour</th>\n",
              "    </tr>\n",
              "  </thead>\n",
              "  <tbody>\n",
              "    <tr>\n",
              "      <th>count</th>\n",
              "      <td>282159.000000</td>\n",
              "      <td>282159.000000</td>\n",
              "      <td>282159.000000</td>\n",
              "      <td>282159.000000</td>\n",
              "      <td>282159.000000</td>\n",
              "      <td>282159.000000</td>\n",
              "      <td>282159.000000</td>\n",
              "      <td>282159.000000</td>\n",
              "      <td>282159.000000</td>\n",
              "      <td>282159.000000</td>\n",
              "      <td>282159.000000</td>\n",
              "    </tr>\n",
              "    <tr>\n",
              "      <th>mean</th>\n",
              "      <td>9949.557267</td>\n",
              "      <td>1573.707527</td>\n",
              "      <td>2024.261955</td>\n",
              "      <td>12.109885</td>\n",
              "      <td>3.460501</td>\n",
              "      <td>15283.444366</td>\n",
              "      <td>32.805964</td>\n",
              "      <td>15.032244</td>\n",
              "      <td>7.604893</td>\n",
              "      <td>2010.934246</td>\n",
              "      <td>12.733597</td>\n",
              "    </tr>\n",
              "    <tr>\n",
              "      <th>std</th>\n",
              "      <td>5547.353569</td>\n",
              "      <td>843.814154</td>\n",
              "      <td>1089.992911</td>\n",
              "      <td>296.463809</td>\n",
              "      <td>78.762448</td>\n",
              "      <td>1714.633177</td>\n",
              "      <td>6.768422</td>\n",
              "      <td>8.651768</td>\n",
              "      <td>3.414620</td>\n",
              "      <td>0.247852</td>\n",
              "      <td>2.291076</td>\n",
              "    </tr>\n",
              "    <tr>\n",
              "      <th>min</th>\n",
              "      <td>0.000000</td>\n",
              "      <td>0.000000</td>\n",
              "      <td>0.000000</td>\n",
              "      <td>-80995.000000</td>\n",
              "      <td>0.000000</td>\n",
              "      <td>12346.000000</td>\n",
              "      <td>0.000000</td>\n",
              "      <td>1.000000</td>\n",
              "      <td>1.000000</td>\n",
              "      <td>2010.000000</td>\n",
              "      <td>6.000000</td>\n",
              "    </tr>\n",
              "    <tr>\n",
              "      <th>25%</th>\n",
              "      <td>5069.000000</td>\n",
              "      <td>942.000000</td>\n",
              "      <td>1141.000000</td>\n",
              "      <td>2.000000</td>\n",
              "      <td>1.250000</td>\n",
              "      <td>13947.000000</td>\n",
              "      <td>35.000000</td>\n",
              "      <td>7.000000</td>\n",
              "      <td>5.000000</td>\n",
              "      <td>2011.000000</td>\n",
              "      <td>11.000000</td>\n",
              "    </tr>\n",
              "    <tr>\n",
              "      <th>50%</th>\n",
              "      <td>10294.000000</td>\n",
              "      <td>1522.000000</td>\n",
              "      <td>1987.000000</td>\n",
              "      <td>5.000000</td>\n",
              "      <td>1.950000</td>\n",
              "      <td>15147.000000</td>\n",
              "      <td>35.000000</td>\n",
              "      <td>15.000000</td>\n",
              "      <td>8.000000</td>\n",
              "      <td>2011.000000</td>\n",
              "      <td>13.000000</td>\n",
              "    </tr>\n",
              "    <tr>\n",
              "      <th>75%</th>\n",
              "      <td>14640.000000</td>\n",
              "      <td>2106.000000</td>\n",
              "      <td>2945.000000</td>\n",
              "      <td>12.000000</td>\n",
              "      <td>3.750000</td>\n",
              "      <td>16791.000000</td>\n",
              "      <td>35.000000</td>\n",
              "      <td>22.000000</td>\n",
              "      <td>11.000000</td>\n",
              "      <td>2011.000000</td>\n",
              "      <td>14.000000</td>\n",
              "    </tr>\n",
              "    <tr>\n",
              "      <th>max</th>\n",
              "      <td>22188.000000</td>\n",
              "      <td>3683.000000</td>\n",
              "      <td>3895.000000</td>\n",
              "      <td>80995.000000</td>\n",
              "      <td>38970.000000</td>\n",
              "      <td>18287.000000</td>\n",
              "      <td>36.000000</td>\n",
              "      <td>31.000000</td>\n",
              "      <td>12.000000</td>\n",
              "      <td>2011.000000</td>\n",
              "      <td>20.000000</td>\n",
              "    </tr>\n",
              "  </tbody>\n",
              "</table>\n",
              "</div>"
            ],
            "text/plain": [
              "           InvoiceNo      StockCode  ...    InvoiceYear    InvoiceHour\n",
              "count  282159.000000  282159.000000  ...  282159.000000  282159.000000\n",
              "mean     9949.557267    1573.707527  ...    2010.934246      12.733597\n",
              "std      5547.353569     843.814154  ...       0.247852       2.291076\n",
              "min         0.000000       0.000000  ...    2010.000000       6.000000\n",
              "25%      5069.000000     942.000000  ...    2011.000000      11.000000\n",
              "50%     10294.000000    1522.000000  ...    2011.000000      13.000000\n",
              "75%     14640.000000    2106.000000  ...    2011.000000      14.000000\n",
              "max     22188.000000    3683.000000  ...    2011.000000      20.000000\n",
              "\n",
              "[8 rows x 11 columns]"
            ]
          },
          "metadata": {
            "tags": []
          },
          "execution_count": 10
        }
      ]
    },
    {
      "cell_type": "code",
      "metadata": {
        "id": "pPBFQScIIXvS"
      },
      "source": [
        "train_df['WeekDay']= train_df['InvoiceDate'].dt.dayofweek\n",
        "train_df['WeekDay']=train_df['InvoiceNo'].apply(lambda x : 1 if x<5 else 0)\n",
        "train_df.drop('InvoiceDate', inplace=True, axis=1)\n",
        "train_df.drop('InvoiceNo', inplace=True, axis=1)\n",
        "train_df.drop('InvoiceHour', inplace=True, axis=1)\n",
        "train_df.drop('WeekDay', inplace=True, axis=1)"
      ],
      "execution_count": 11,
      "outputs": []
    },
    {
      "cell_type": "code",
      "metadata": {
        "id": "fyCtrqY7kxd-",
        "outputId": "80a6397e-73fe-408b-db67-2d96dbcddad1",
        "colab": {
          "base_uri": "https://localhost:8080/"
        }
      },
      "source": [
        "train_df.corr(method='spearman')['UnitPrice']"
      ],
      "execution_count": 12,
      "outputs": [
        {
          "output_type": "execute_result",
          "data": {
            "text/plain": [
              "StockCode       0.098888\n",
              "Description    -0.028534\n",
              "Quantity       -0.408045\n",
              "UnitPrice       1.000000\n",
              "CustomerID     -0.013895\n",
              "Country        -0.022726\n",
              "InvoiceDay     -0.004739\n",
              "InvoiceMonth   -0.022320\n",
              "InvoiceYear    -0.031509\n",
              "Name: UnitPrice, dtype: float64"
            ]
          },
          "metadata": {
            "tags": []
          },
          "execution_count": 12
        }
      ]
    },
    {
      "cell_type": "code",
      "metadata": {
        "id": "UFFSNJ9Y3U4x",
        "outputId": "57a403f6-0232-4210-a89c-3d36031fce74",
        "colab": {
          "base_uri": "https://localhost:8080/"
        }
      },
      "source": [
        "train_df.skew()"
      ],
      "execution_count": 13,
      "outputs": [
        {
          "output_type": "execute_result",
          "data": {
            "text/plain": [
              "StockCode         0.271076\n",
              "Description      -0.133745\n",
              "Quantity          0.223878\n",
              "UnitPrice       436.324717\n",
              "CustomerID        0.032807\n",
              "Country          -3.034005\n",
              "InvoiceDay        0.117892\n",
              "InvoiceMonth     -0.440870\n",
              "InvoiceYear      -3.504109\n",
              "dtype: float64"
            ]
          },
          "metadata": {
            "tags": []
          },
          "execution_count": 13
        }
      ]
    },
    {
      "cell_type": "code",
      "metadata": {
        "id": "H4PCiE-3Bkh-"
      },
      "source": [
        "target = train_df['UnitPrice']\n",
        "train_df.drop('UnitPrice', inplace=True, axis=1)"
      ],
      "execution_count": 14,
      "outputs": []
    },
    {
      "cell_type": "code",
      "metadata": {
        "id": "WdBB9FrJSZMl",
        "outputId": "e0a287c0-7920-4655-9a1a-ea956234025e",
        "colab": {
          "base_uri": "https://localhost:8080/",
          "height": 204
        }
      },
      "source": [
        "train_df.head()"
      ],
      "execution_count": 15,
      "outputs": [
        {
          "output_type": "execute_result",
          "data": {
            "text/html": [
              "<div>\n",
              "<style scoped>\n",
              "    .dataframe tbody tr th:only-of-type {\n",
              "        vertical-align: middle;\n",
              "    }\n",
              "\n",
              "    .dataframe tbody tr th {\n",
              "        vertical-align: top;\n",
              "    }\n",
              "\n",
              "    .dataframe thead th {\n",
              "        text-align: right;\n",
              "    }\n",
              "</style>\n",
              "<table border=\"1\" class=\"dataframe\">\n",
              "  <thead>\n",
              "    <tr style=\"text-align: right;\">\n",
              "      <th></th>\n",
              "      <th>StockCode</th>\n",
              "      <th>Description</th>\n",
              "      <th>Quantity</th>\n",
              "      <th>CustomerID</th>\n",
              "      <th>Country</th>\n",
              "      <th>InvoiceDay</th>\n",
              "      <th>InvoiceMonth</th>\n",
              "      <th>InvoiceYear</th>\n",
              "    </tr>\n",
              "  </thead>\n",
              "  <tbody>\n",
              "    <tr>\n",
              "      <th>0</th>\n",
              "      <td>1583</td>\n",
              "      <td>144</td>\n",
              "      <td>3</td>\n",
              "      <td>14056.0</td>\n",
              "      <td>35</td>\n",
              "      <td>6</td>\n",
              "      <td>5</td>\n",
              "      <td>2011</td>\n",
              "    </tr>\n",
              "    <tr>\n",
              "      <th>1</th>\n",
              "      <td>1300</td>\n",
              "      <td>3682</td>\n",
              "      <td>6</td>\n",
              "      <td>13098.0</td>\n",
              "      <td>35</td>\n",
              "      <td>11</td>\n",
              "      <td>5</td>\n",
              "      <td>2011</td>\n",
              "    </tr>\n",
              "    <tr>\n",
              "      <th>2</th>\n",
              "      <td>2178</td>\n",
              "      <td>1939</td>\n",
              "      <td>4</td>\n",
              "      <td>15044.0</td>\n",
              "      <td>35</td>\n",
              "      <td>20</td>\n",
              "      <td>11</td>\n",
              "      <td>2011</td>\n",
              "    </tr>\n",
              "    <tr>\n",
              "      <th>3</th>\n",
              "      <td>2115</td>\n",
              "      <td>2983</td>\n",
              "      <td>1</td>\n",
              "      <td>15525.0</td>\n",
              "      <td>35</td>\n",
              "      <td>22</td>\n",
              "      <td>11</td>\n",
              "      <td>2011</td>\n",
              "    </tr>\n",
              "    <tr>\n",
              "      <th>4</th>\n",
              "      <td>1210</td>\n",
              "      <td>2886</td>\n",
              "      <td>12</td>\n",
              "      <td>13952.0</td>\n",
              "      <td>35</td>\n",
              "      <td>6</td>\n",
              "      <td>5</td>\n",
              "      <td>2011</td>\n",
              "    </tr>\n",
              "  </tbody>\n",
              "</table>\n",
              "</div>"
            ],
            "text/plain": [
              "   StockCode  Description  Quantity  ...  InvoiceDay  InvoiceMonth  InvoiceYear\n",
              "0       1583          144         3  ...           6             5         2011\n",
              "1       1300         3682         6  ...          11             5         2011\n",
              "2       2178         1939         4  ...          20            11         2011\n",
              "3       2115         2983         1  ...          22            11         2011\n",
              "4       1210         2886        12  ...           6             5         2011\n",
              "\n",
              "[5 rows x 8 columns]"
            ]
          },
          "metadata": {
            "tags": []
          },
          "execution_count": 15
        }
      ]
    },
    {
      "cell_type": "code",
      "metadata": {
        "id": "kEf2zsd8T_bO"
      },
      "source": [
        "x = train_df.values #returns a numpy array\n",
        "min_max_scaler = preprocessing.MinMaxScaler()\n",
        "x_scaled = min_max_scaler.fit_transform(x)\n",
        "train_df = pd.DataFrame(x_scaled)"
      ],
      "execution_count": 16,
      "outputs": []
    },
    {
      "cell_type": "code",
      "metadata": {
        "id": "ecOEcywokpxv"
      },
      "source": [
        "X_train, X_test, y_train, y_test = train_test_split(train_df, target, test_size=0.33, random_state=42)"
      ],
      "execution_count": 17,
      "outputs": []
    },
    {
      "cell_type": "code",
      "metadata": {
        "id": "qxewquKaONht"
      },
      "source": [
        "reg = DecisionTreeRegressor(random_state=0)"
      ],
      "execution_count": 18,
      "outputs": []
    },
    {
      "cell_type": "code",
      "metadata": {
        "id": "ZSGYAycdHlqg"
      },
      "source": [
        "param_grid = {\"criterion\": [\"mse\"], \n",
        "              # \"max_features\": [1,2,3,4,5,6,7,8], \n",
        "              \"min_samples_split\": [5, 10, 15, 20, 25, 30, 35, 40],\n",
        "              \"max_depth\": [2, 3, 4, 5, 6, 7, 8],\n",
        "              \"min_samples_leaf\": [20, 40, 60, 80, 100],\n",
        "              \"max_leaf_nodes\": [5, 20, 100]\n",
        "              }\n",
        "## Comment in order to publish in kaggle.\n",
        "\n",
        "grid_cv = GridSearchCV(reg, param_grid, cv=5)\n",
        "grid_cv.fit(X_train, y_train)\n",
        "print(\"Tuned Logistic Regression Parameters: {}\".format(grid_cv.best_params_))  \n",
        "print(\"Best score is {}\".format(grid_cv.best_score_)) \n",
        "# print(reg.score(X_test, y_test))"
      ],
      "execution_count": null,
      "outputs": []
    },
    {
      "cell_type": "code",
      "metadata": {
        "id": "ykLuo1u91050"
      },
      "source": [
        "dtc = DecisionTreeRegressor(criterion='mse', max_depth=8, max_leaf_nodes=100, min_samples_leaf=20, min_samples_split=5, random_state=0)\n",
        "dtc.fit(X_train, y_train)"
      ],
      "execution_count": null,
      "outputs": []
    },
    {
      "cell_type": "code",
      "metadata": {
        "id": "yyxG_ijI6qVg"
      },
      "source": [
        "y_predicted = dtc.predict(X_test)"
      ],
      "execution_count": null,
      "outputs": []
    },
    {
      "cell_type": "code",
      "metadata": {
        "id": "wmADOkNq58yR"
      },
      "source": [
        "print('RMSE:', np.sqrt(metrics.mean_squared_error(y_test,y_predicted)))"
      ],
      "execution_count": null,
      "outputs": []
    },
    {
      "cell_type": "code",
      "metadata": {
        "id": "p5LvM7_ReGPU"
      },
      "source": [
        "test_df['InvoiceDate']=pd.to_datetime(test_df['InvoiceDate'])\n",
        "test_df['InvoiceDay']=test_df['InvoiceDate'].dt.day\n",
        "test_df['InvoiceMonth']=test_df['InvoiceDate'].dt.month\n",
        "test_df['InvoiceYear']=test_df['InvoiceDate'].dt.year\n",
        "test_df['InvoiceHour']=test_df['InvoiceDate'].dt.hour\n",
        "test_df['WeekDay']= test_df['InvoiceDate'].dt.dayofweek\n",
        "test_df['WeekDay']=test_df['InvoiceNo'].apply(lambda x : 1 if x<5 else 0)\n",
        "test_df.drop('InvoiceDate', inplace=True, axis=1)\n",
        "test_df.drop('InvoiceNo', inplace=True, axis=1)\n",
        "test_df.drop('InvoiceHour', inplace=True, axis=1)\n",
        "test_df.drop('WeekDay', inplace=True, axis=1)"
      ],
      "execution_count": null,
      "outputs": []
    },
    {
      "cell_type": "code",
      "metadata": {
        "id": "wcNmSJUIU7mx"
      },
      "source": [
        "test_df = pd.DataFrame(min_max_scaler.transform(test_df.values))"
      ],
      "execution_count": null,
      "outputs": []
    },
    {
      "cell_type": "code",
      "metadata": {
        "id": "MjgxxFO8d74b"
      },
      "source": [
        "out = dtc.predict(test_df)"
      ],
      "execution_count": null,
      "outputs": []
    },
    {
      "cell_type": "code",
      "metadata": {
        "id": "yXKLX18El5_Q"
      },
      "source": [
        "sample_df=pd.read_csv('/content/drive/My Drive/Participants_Data_TGIH/Sample Submission.csv')"
      ],
      "execution_count": null,
      "outputs": []
    },
    {
      "cell_type": "code",
      "metadata": {
        "id": "ZAwZYeftmUX9"
      },
      "source": [
        "sample_df['UnitPrice'] = out.round(2)"
      ],
      "execution_count": null,
      "outputs": []
    },
    {
      "cell_type": "code",
      "metadata": {
        "id": "xuvWUNEBmw5p"
      },
      "source": [
        "sample_df"
      ],
      "execution_count": null,
      "outputs": []
    },
    {
      "cell_type": "code",
      "metadata": {
        "id": "JBMXtIJGm7Ke"
      },
      "source": [
        "sample_df.to_csv('my_submission_file19.csv', index=False)"
      ],
      "execution_count": null,
      "outputs": []
    }
  ]
}